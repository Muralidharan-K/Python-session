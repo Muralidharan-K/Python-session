{
 "cells": [
  {
   "cell_type": "code",
   "execution_count": 3,
   "metadata": {},
   "outputs": [
    {
     "name": "stdout",
     "output_type": "stream",
     "text": [
      "3.9.5 (tags/v3.9.5:0a7dcbd, May  3 2021, 17:27:52) [MSC v.1928 64 bit (AMD64)]\n"
     ]
    }
   ],
   "source": [
    "# 1.\tWrite a Python program to get the Python version you are using\n",
    "import sys\n",
    "print (sys.version)"
   ]
  },
  {
   "cell_type": "code",
   "execution_count": 42,
   "metadata": {},
   "outputs": [
    {
     "name": "stdout",
     "output_type": "stream",
     "text": [
      "r = 9\n",
      "area = 254.46900494077323\n"
     ]
    }
   ],
   "source": [
    "#2.\tWrite a Python program which accepts the radius of a circle from the user and compute the area\n",
    "import math\n",
    "radius = int(input(\"Enter the radius of the circle: \"))\n",
    "a = math.pi*radius**2\n",
    "print(\"r =\", radius)\n",
    "print(\"area =\", a)"
   ]
  },
  {
   "cell_type": "code",
   "execution_count": 3,
   "metadata": {},
   "outputs": [
    {
     "name": "stdout",
     "output_type": "stream",
     "text": [
      "Kanniappan Muralidharan\n"
     ]
    }
   ],
   "source": [
    "#3.\tWrite a Python program which accepts the user's first and last name and print them in reverse order with a space between them\n",
    "First_name = input(\"Enter your first name: \")\n",
    "Last_name = input(\"Enter your last name: \")\n",
    "print(Last_name + \" \" + First_name)"
   ]
  },
  {
   "cell_type": "code",
   "execution_count": 10,
   "metadata": {},
   "outputs": [
    {
     "name": "stdout",
     "output_type": "stream",
     "text": [
      "List =  ['1', '2']\n",
      "Tuple =  ('1', '2')\n"
     ]
    }
   ],
   "source": [
    "#4.\tWrite a Python program which accepts a sequence of comma-separated numbers from user and generate a list and a tuple with those numbers\n",
    "user_input = input(\"Input some comma seprated numbers : \")\n",
    "L = user_input.split(\",\")\n",
    "T = tuple(L)\n",
    "print('List = ',L)\n",
    "print('Tuple = ',T)"
   ]
  },
  {
   "cell_type": "code",
   "execution_count": 14,
   "metadata": {},
   "outputs": [
    {
     "name": "stdout",
     "output_type": "stream",
     "text": [
      "White Purple\n"
     ]
    }
   ],
   "source": [
    "#5.\tWrite a Python program to display the first and last colors from the following list\n",
    "colors = [\"White\",\"Black\",\"Blue\",\"Pink\",\"Purple\"]\n",
    "print(colors[0], colors[-1])"
   ]
  },
  {
   "cell_type": "code",
   "execution_count": 24,
   "metadata": {},
   "outputs": [
    {
     "name": "stdout",
     "output_type": "stream",
     "text": [
      "615\n"
     ]
    }
   ],
   "source": [
    "#6.\tWrite a Python program that accepts an integer (n) and computes the value of n+nn+nnn\n",
    "n = (input(\"Enter value: \"))\n",
    "n1 = int(n)\n",
    "n2 = int(n+n)\n",
    "n3 = int(n+n+n)\n",
    "print(n1+n2+n3)"
   ]
  },
  {
   "cell_type": "code",
   "execution_count": 27,
   "metadata": {},
   "outputs": [
    {
     "name": "stdout",
     "output_type": "stream",
     "text": [
      "36\n"
     ]
    }
   ],
   "source": [
    "#7.\tWrite a Python program to get the difference between a given number and 17, if the number is greater than 17 return double the absolute difference\n",
    "x = 17\n",
    "n = int(input(\"enter number: \"))\n",
    "if n<=17:\n",
    "    print(n-x)\n",
    "else:\n",
    "    print(n*2)\n"
   ]
  },
  {
   "cell_type": "code",
   "execution_count": 28,
   "metadata": {},
   "outputs": [],
   "source": [
    "#8.\tWrite a Python program to test whether a number is within 100 of 1000 or 2000\n",
    "num = int(input(\"enter number: \"))"
   ]
  },
  {
   "cell_type": "code",
   "execution_count": null,
   "metadata": {},
   "outputs": [],
   "source": [
    "#9.\tWrite a Python program to calculate the sum of three given numbers, if the values are equal then return three times of their sum\n"
   ]
  }
 ],
 "metadata": {
  "interpreter": {
   "hash": "dda71d8cc0bd20fe44ac698348a83eb831dcaf99e182142bfc533a27b56eb655"
  },
  "kernelspec": {
   "display_name": "Python 3.8.5 ('base')",
   "language": "python",
   "name": "python3"
  },
  "language_info": {
   "codemirror_mode": {
    "name": "ipython",
    "version": 3
   },
   "file_extension": ".py",
   "mimetype": "text/x-python",
   "name": "python",
   "nbconvert_exporter": "python",
   "pygments_lexer": "ipython3",
   "version": "3.8.5"
  },
  "orig_nbformat": 4
 },
 "nbformat": 4,
 "nbformat_minor": 2
}
