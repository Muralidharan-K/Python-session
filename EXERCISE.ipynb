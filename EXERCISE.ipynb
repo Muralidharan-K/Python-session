{
 "cells": [
  {
   "cell_type": "code",
   "execution_count": 3,
   "metadata": {},
   "outputs": [
    {
     "name": "stdout",
     "output_type": "stream",
     "text": [
      "3.9.5 (tags/v3.9.5:0a7dcbd, May  3 2021, 17:27:52) [MSC v.1928 64 bit (AMD64)]\n"
     ]
    }
   ],
   "source": [
    "# 1.\tWrite a Python program to get the Python version you are using\n",
    "import sys\n",
    "print (sys.version)"
   ]
  },
  {
   "cell_type": "code",
   "execution_count": 42,
   "metadata": {},
   "outputs": [
    {
     "name": "stdout",
     "output_type": "stream",
     "text": [
      "r = 9\n",
      "area = 254.46900494077323\n"
     ]
    }
   ],
   "source": [
    "#2.\tWrite a Python program which accepts the radius of a circle from the user and compute the area\n",
    "import math\n",
    "radius = int(input(\"Enter the radius of the circle: \"))\n",
    "a = math.pi*radius**2\n",
    "print(\"r =\", radius)\n",
    "print(\"area =\", a)"
   ]
  },
  {
   "cell_type": "code",
   "execution_count": 3,
   "metadata": {},
   "outputs": [
    {
     "name": "stdout",
     "output_type": "stream",
     "text": [
      "Kanniappan Muralidharan\n"
     ]
    }
   ],
   "source": [
    "#3.\tWrite a Python program which accepts the user's first and last name and print them in reverse order with a space between them\n",
    "First_name = input(\"Enter your first name: \")\n",
    "Last_name = input(\"Enter your last name: \")\n",
    "print(Last_name + \" \" + First_name)"
   ]
  },
  {
   "cell_type": "code",
   "execution_count": 10,
   "metadata": {},
   "outputs": [
    {
     "name": "stdout",
     "output_type": "stream",
     "text": [
      "List =  ['1', '2']\n",
      "Tuple =  ('1', '2')\n"
     ]
    }
   ],
   "source": [
    "#4.\tWrite a Python program which accepts a sequence of comma-separated numbers from user and generate a list and a tuple with those numbers\n",
    "user_input = input(\"Input some comma seprated numbers : \")\n",
    "L = user_input.split(\",\")\n",
    "T = tuple(L)\n",
    "print('List = ',L)\n",
    "print('Tuple = ',T)"
   ]
  },
  {
   "cell_type": "code",
   "execution_count": 14,
   "metadata": {},
   "outputs": [
    {
     "name": "stdout",
     "output_type": "stream",
     "text": [
      "White Purple\n"
     ]
    }
   ],
   "source": [
    "#5.\tWrite a Python program to display the first and last colors from the following list\n",
    "colors = [\"White\",\"Black\",\"Blue\",\"Pink\",\"Purple\"]\n",
    "print(colors[0], colors[-1])"
   ]
  },
  {
   "cell_type": "code",
   "execution_count": 24,
   "metadata": {},
   "outputs": [
    {
     "name": "stdout",
     "output_type": "stream",
     "text": [
      "615\n"
     ]
    }
   ],
   "source": [
    "#6.\tWrite a Python program that accepts an integer (n) and computes the value of n+nn+nnn\n",
    "n = (input(\"Enter value: \"))\n",
    "n1 = int(n)\n",
    "n2 = int(n+n)\n",
    "n3 = int(n+n+n)\n",
    "print(n1+n2+n3)"
   ]
  },
  {
   "cell_type": "code",
   "execution_count": 27,
   "metadata": {},
   "outputs": [
    {
     "name": "stdout",
     "output_type": "stream",
     "text": [
      "36\n"
     ]
    }
   ],
   "source": [
    "#7.\tWrite a Python program to get the difference between a given number and 17, if the number is greater than 17 return double the absolute difference\n",
    "x = 17\n",
    "n = int(input(\"enter number: \"))\n",
    "if n<=17:\n",
    "    print(n-x)\n",
    "else:\n",
    "    print(n*2)\n"
   ]
  },
  {
   "cell_type": "code",
   "execution_count": 28,
   "metadata": {},
   "outputs": [],
   "source": [
    "#8.\tWrite a Python program to test whether a number is within 100 of 1000 or 2000\n",
    "num = int(input(\"enter number: \"))"
   ]
  },
  {
   "cell_type": "code",
   "execution_count": 47,
   "metadata": {},
   "outputs": [
    {
     "name": "stdout",
     "output_type": "stream",
     "text": [
      "45\n"
     ]
    }
   ],
   "source": [
    "#9.\tWrite a Python program to calculate the sum of three given numbers, if the values are equal then return three times of their sum\n",
    "\n",
    "def three_num(x, y, z):\n",
    "    sum = x + y + z\n",
    "    if x == y == z:\n",
    "        sum = sum * 3\n",
    "    return sum\n",
    "print(three_num(5, 5, 5))"
   ]
  },
  {
   "cell_type": "code",
   "execution_count": 63,
   "metadata": {},
   "outputs": [
    {
     "name": "stdout",
     "output_type": "stream",
     "text": [
      "It is not a vowel\n"
     ]
    }
   ],
   "source": [
    "#10.\tWrite a Python program to test whether a passed letter is a vowel or not\n",
    "def check_vowel(letter):\n",
    "    vowels = [\"a\",\"e\",\"i\",\"o\",\"u\"]\n",
    "    if letter in vowels:\n",
    "        print(\"It is a vowel\")\n",
    "    else:\n",
    "        print(\"It is not a vowel\")\n",
    "check_vowel(\"z\")\n"
   ]
  },
  {
   "cell_type": "code",
   "execution_count": 65,
   "metadata": {},
   "outputs": [
    {
     "name": "stdout",
     "output_type": "stream",
     "text": [
      "{'White', 'Black'}\n",
      "{'Green'}\n"
     ]
    }
   ],
   "source": [
    "#11.\tWrite a Python program to print out a set containing all the colors from color_list_1 which are not present in color_list_2\n",
    "color_list_1 = set([\"White\", \"Black\", \"Red\"])\n",
    "color_list_2 = set([\"Red\", \"Green\"])\n",
    "print(color_list_1.difference(color_list_2))\n",
    "print(color_list_2.difference(color_list_1))"
   ]
  },
  {
   "cell_type": "code",
   "execution_count": 110,
   "metadata": {},
   "outputs": [
    {
     "name": "stdout",
     "output_type": "stream",
     "text": [
      "{0: 10, 1: 20, 2: 30, 3: 40}\n"
     ]
    }
   ],
   "source": [
    "#12.\tWrite a Python script to add a key to a dictionary\n",
    "Sample_dictionary = {0: 10, 1: 20}\n",
    "Sample_dictionary[2] = 30\n",
    "Sample_dictionary[3] = 40\n",
    "print(Sample_dictionary)"
   ]
  },
  {
   "cell_type": "code",
   "execution_count": 96,
   "metadata": {},
   "outputs": [
    {
     "name": "stdout",
     "output_type": "stream",
     "text": [
      "1\n",
      "4\n",
      "9\n",
      "16\n"
     ]
    }
   ],
   "source": [
    "#13.\tWrite a Python script to generate and print a dictionary that contains a number (between 1 and n) in the form (x, x*x)\n",
    "dict = {1:1, 2:4, 3:9, 4:16, 5:25, 6:36, 7:49, 8:64, 9:81, 10:100}\n",
    "x = int(input())\n",
    "num = range(1, x)\n",
    "for n in num:\n",
    "    if n in dict:\n",
    "        print(dict[n])"
   ]
  },
  {
   "cell_type": "code",
   "execution_count": 99,
   "metadata": {},
   "outputs": [
    {
     "name": "stdout",
     "output_type": "stream",
     "text": [
      "385\n"
     ]
    }
   ],
   "source": [
    "#14.\tWrite a Python program to sum all the items in a dictionary\n",
    "dict = {1:1, 2:4, 3:9, 4:16, 5:25, 6:36, 7:49, 8:64, 9:81, 10:100}\n",
    "print(sum(dict.values()))"
   ]
  },
  {
   "cell_type": "code",
   "execution_count": 122,
   "metadata": {},
   "outputs": [
    {
     "name": "stdout",
     "output_type": "stream",
     "text": [
      "min = 1\n",
      "max=  100\n"
     ]
    }
   ],
   "source": [
    "#15.\tWrite a Python program to get the maximum and minimum value in a dictionary\n",
    "dict = {1:1, 2:4, 3:9, 4:16, 5:25, 6:36, 7:49, 8:64, 9:81, 10:100}\n",
    "print(\"min =\", min(dict.values()))\n",
    "print(\"max= \", max(dict.values()))"
   ]
  }
 ],
 "metadata": {
  "interpreter": {
   "hash": "dda71d8cc0bd20fe44ac698348a83eb831dcaf99e182142bfc533a27b56eb655"
  },
  "kernelspec": {
   "display_name": "Python 3.8.5 ('base')",
   "language": "python",
   "name": "python3"
  },
  "language_info": {
   "codemirror_mode": {
    "name": "ipython",
    "version": 3
   },
   "file_extension": ".py",
   "mimetype": "text/x-python",
   "name": "python",
   "nbconvert_exporter": "python",
   "pygments_lexer": "ipython3",
   "version": "3.8.5"
  },
  "orig_nbformat": 4
 },
 "nbformat": 4,
 "nbformat_minor": 2
}
