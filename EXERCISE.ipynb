{
 "cells": [
  {
   "cell_type": "code",
   "execution_count": 3,
   "metadata": {},
   "outputs": [
    {
     "name": "stdout",
     "output_type": "stream",
     "text": [
      "3.9.5 (tags/v3.9.5:0a7dcbd, May  3 2021, 17:27:52) [MSC v.1928 64 bit (AMD64)]\n"
     ]
    }
   ],
   "source": [
    "# 1.\tWrite a Python program to get the Python version you are using\n",
    "import sys\n",
    "print (sys.version)"
   ]
  },
  {
   "cell_type": "code",
   "execution_count": 42,
   "metadata": {},
   "outputs": [
    {
     "name": "stdout",
     "output_type": "stream",
     "text": [
      "r = 9\n",
      "area = 254.46900494077323\n"
     ]
    }
   ],
   "source": [
    "#2.\tWrite a Python program which accepts the radius of a circle from the user and compute the area\n",
    "import math\n",
    "radius = int(input(\"Enter the radius of the circle: \"))\n",
    "a = math.pi*radius**2\n",
    "print(\"r =\", radius)\n",
    "print(\"area =\", a)"
   ]
  },
  {
   "cell_type": "code",
   "execution_count": 43,
   "metadata": {},
   "outputs": [],
   "source": [
    "#3.\tWrite a Python program which accepts the user's first and last name and print them in reverse order with a space between them\n",
    "First name = input(\"Enter your first name: \")\n",
    "Last name = input(\"Enter your last name: \")\n",
    "print(Last name + \"\" + First name)"
   ]
  }
 ],
 "metadata": {
  "interpreter": {
   "hash": "2d4144ef5af006bf43410376c374eb8a60f59d62f65edfc03c9f67d81ab05b95"
  },
  "kernelspec": {
   "display_name": "Python 3.8.5 ('base')",
   "language": "python",
   "name": "python3"
  },
  "language_info": {
   "codemirror_mode": {
    "name": "ipython",
    "version": 3
   },
   "file_extension": ".py",
   "mimetype": "text/x-python",
   "name": "python",
   "nbconvert_exporter": "python",
   "pygments_lexer": "ipython3",
   "version": "3.9.5"
  },
  "orig_nbformat": 4
 },
 "nbformat": 4,
 "nbformat_minor": 2
}
